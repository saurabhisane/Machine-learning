{
 "cells": [
  {
   "cell_type": "code",
   "execution_count": null,
   "id": "a655a3fc-f58e-4bda-96d4-ce0055b774e2",
   "metadata": {},
   "outputs": [],
   "source": []
  }
 ],
 "metadata": {
  "kernelspec": {
   "display_name": "",
   "name": ""
  },
  "language_info": {
   "name": ""
  }
 },
 "nbformat": 4,
 "nbformat_minor": 5
}
